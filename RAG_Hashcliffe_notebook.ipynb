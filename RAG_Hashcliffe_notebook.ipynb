{
  "nbformat": 4,
  "nbformat_minor": 0,
  "metadata": {
    "colab": {
      "provenance": []
    },
    "kernelspec": {
      "name": "python3",
      "display_name": "Python 3"
    },
    "language_info": {
      "name": "python"
    }
  },
  "cells": [
    {
      "cell_type": "code",
      "execution_count": null,
      "metadata": {
        "id": "P9fbNYtFvO8T",
        "colab": {
          "base_uri": "https://localhost:8080/"
        },
        "outputId": "8b1df40c-48c6-4301-f1c4-e77a5e3e1eb4"
      },
      "outputs": [
        {
          "output_type": "stream",
          "name": "stdout",
          "text": [
            "\u001b[2K     \u001b[90m━━━━━━━━━━━━━━━━━━━━━━━━━━━━━━━━━━━━━━━━\u001b[0m \u001b[32m142.1/142.1 kB\u001b[0m \u001b[31m2.9 MB/s\u001b[0m eta \u001b[36m0:00:00\u001b[0m\n",
            "\u001b[2K     \u001b[90m━━━━━━━━━━━━━━━━━━━━━━━━━━━━━━━━━━━━━━━━\u001b[0m \u001b[32m525.5/525.5 kB\u001b[0m \u001b[31m9.2 MB/s\u001b[0m eta \u001b[36m0:00:00\u001b[0m\n",
            "\u001b[2K     \u001b[90m━━━━━━━━━━━━━━━━━━━━━━━━━━━━━━━━━━━━━━━━\u001b[0m \u001b[32m290.4/290.4 kB\u001b[0m \u001b[31m8.8 MB/s\u001b[0m eta \u001b[36m0:00:00\u001b[0m\n",
            "\u001b[2K     \u001b[90m━━━━━━━━━━━━━━━━━━━━━━━━━━━━━━━━━━━━━━━━\u001b[0m \u001b[32m663.6/663.6 kB\u001b[0m \u001b[31m11.8 MB/s\u001b[0m eta \u001b[36m0:00:00\u001b[0m\n",
            "\u001b[2K     \u001b[90m━━━━━━━━━━━━━━━━━━━━━━━━━━━━━━━━━━━━━━━━\u001b[0m \u001b[32m137.4/137.4 kB\u001b[0m \u001b[31m12.6 MB/s\u001b[0m eta \u001b[36m0:00:00\u001b[0m\n",
            "\u001b[2K     \u001b[90m━━━━━━━━━━━━━━━━━━━━━━━━━━━━━━━━━━━━━━━━\u001b[0m \u001b[32m287.5/287.5 kB\u001b[0m \u001b[31m14.0 MB/s\u001b[0m eta \u001b[36m0:00:00\u001b[0m\n",
            "\u001b[2K     \u001b[90m━━━━━━━━━━━━━━━━━━━━━━━━━━━━━━━━━━━━━━━━\u001b[0m \u001b[32m2.4/2.4 MB\u001b[0m \u001b[31m17.7 MB/s\u001b[0m eta \u001b[36m0:00:00\u001b[0m\n",
            "\u001b[2K     \u001b[90m━━━━━━━━━━━━━━━━━━━━━━━━━━━━━━━━━━━━━━━━\u001b[0m \u001b[32m91.9/91.9 kB\u001b[0m \u001b[31m10.1 MB/s\u001b[0m eta \u001b[36m0:00:00\u001b[0m\n",
            "\u001b[2K     \u001b[90m━━━━━━━━━━━━━━━━━━━━━━━━━━━━━━━━━━━━━━━━\u001b[0m \u001b[32m60.8/60.8 kB\u001b[0m \u001b[31m6.6 MB/s\u001b[0m eta \u001b[36m0:00:00\u001b[0m\n",
            "\u001b[2K     \u001b[90m━━━━━━━━━━━━━━━━━━━━━━━━━━━━━━━━━━━━━━━━\u001b[0m \u001b[32m41.3/41.3 kB\u001b[0m \u001b[31m4.3 MB/s\u001b[0m eta \u001b[36m0:00:00\u001b[0m\n",
            "\u001b[2K     \u001b[90m━━━━━━━━━━━━━━━━━━━━━━━━━━━━━━━━━━━━━━━━\u001b[0m \u001b[32m5.4/5.4 MB\u001b[0m \u001b[31m29.1 MB/s\u001b[0m eta \u001b[36m0:00:00\u001b[0m\n",
            "\u001b[2K     \u001b[90m━━━━━━━━━━━━━━━━━━━━━━━━━━━━━━━━━━━━━━━━\u001b[0m \u001b[32m6.8/6.8 MB\u001b[0m \u001b[31m45.4 MB/s\u001b[0m eta \u001b[36m0:00:00\u001b[0m\n",
            "\u001b[2K     \u001b[90m━━━━━━━━━━━━━━━━━━━━━━━━━━━━━━━━━━━━━━━━\u001b[0m \u001b[32m60.1/60.1 kB\u001b[0m \u001b[31m6.7 MB/s\u001b[0m eta \u001b[36m0:00:00\u001b[0m\n",
            "\u001b[2K     \u001b[90m━━━━━━━━━━━━━━━━━━━━━━━━━━━━━━━━━━━━━━━━\u001b[0m \u001b[32m106.1/106.1 kB\u001b[0m \u001b[31m11.8 MB/s\u001b[0m eta \u001b[36m0:00:00\u001b[0m\n",
            "\u001b[2K     \u001b[90m━━━━━━━━━━━━━━━━━━━━━━━━━━━━━━━━━━━━━━━━\u001b[0m \u001b[32m67.3/67.3 kB\u001b[0m \u001b[31m7.8 MB/s\u001b[0m eta \u001b[36m0:00:00\u001b[0m\n",
            "\u001b[?25h  Installing build dependencies ... \u001b[?25l\u001b[?25hdone\n",
            "  Getting requirements to build wheel ... \u001b[?25l\u001b[?25hdone\n",
            "  Preparing metadata (pyproject.toml) ... \u001b[?25l\u001b[?25hdone\n",
            "\u001b[2K     \u001b[90m━━━━━━━━━━━━━━━━━━━━━━━━━━━━━━━━━━━━━━━━\u001b[0m \u001b[32m698.9/698.9 kB\u001b[0m \u001b[31m45.6 MB/s\u001b[0m eta \u001b[36m0:00:00\u001b[0m\n",
            "\u001b[2K     \u001b[90m━━━━━━━━━━━━━━━━━━━━━━━━━━━━━━━━━━━━━━━━\u001b[0m \u001b[32m1.6/1.6 MB\u001b[0m \u001b[31m43.8 MB/s\u001b[0m eta \u001b[36m0:00:00\u001b[0m\n",
            "\u001b[2K     \u001b[90m━━━━━━━━━━━━━━━━━━━━━━━━━━━━━━━━━━━━━━━━\u001b[0m \u001b[32m67.6/67.6 kB\u001b[0m \u001b[31m8.2 MB/s\u001b[0m eta \u001b[36m0:00:00\u001b[0m\n",
            "\u001b[2K     \u001b[90m━━━━━━━━━━━━━━━━━━━━━━━━━━━━━━━━━━━━━━━━\u001b[0m \u001b[32m144.8/144.8 kB\u001b[0m \u001b[31m16.1 MB/s\u001b[0m eta \u001b[36m0:00:00\u001b[0m\n",
            "\u001b[2K     \u001b[90m━━━━━━━━━━━━━━━━━━━━━━━━━━━━━━━━━━━━━━━━\u001b[0m \u001b[32m71.9/71.9 kB\u001b[0m \u001b[31m7.3 MB/s\u001b[0m eta \u001b[36m0:00:00\u001b[0m\n",
            "\u001b[2K     \u001b[90m━━━━━━━━━━━━━━━━━━━━━━━━━━━━━━━━━━━━━━━━\u001b[0m \u001b[32m104.2/104.2 kB\u001b[0m \u001b[31m11.9 MB/s\u001b[0m eta \u001b[36m0:00:00\u001b[0m\n",
            "\u001b[2K     \u001b[90m━━━━━━━━━━━━━━━━━━━━━━━━━━━━━━━━━━━━━━━━\u001b[0m \u001b[32m53.0/53.0 kB\u001b[0m \u001b[31m5.3 MB/s\u001b[0m eta \u001b[36m0:00:00\u001b[0m\n",
            "\u001b[2K     \u001b[90m━━━━━━━━━━━━━━━━━━━━━━━━━━━━━━━━━━━━━━━━\u001b[0m \u001b[32m46.0/46.0 kB\u001b[0m \u001b[31m4.5 MB/s\u001b[0m eta \u001b[36m0:00:00\u001b[0m\n",
            "\u001b[2K     \u001b[90m━━━━━━━━━━━━━━━━━━━━━━━━━━━━━━━━━━━━━━━━\u001b[0m \u001b[32m50.8/50.8 kB\u001b[0m \u001b[31m5.5 MB/s\u001b[0m eta \u001b[36m0:00:00\u001b[0m\n",
            "\u001b[2K     \u001b[90m━━━━━━━━━━━━━━━━━━━━━━━━━━━━━━━━━━━━━━━━\u001b[0m \u001b[32m58.3/58.3 kB\u001b[0m \u001b[31m6.9 MB/s\u001b[0m eta \u001b[36m0:00:00\u001b[0m\n",
            "\u001b[2K     \u001b[90m━━━━━━━━━━━━━━━━━━━━━━━━━━━━━━━━━━━━━━━━\u001b[0m \u001b[32m341.4/341.4 kB\u001b[0m \u001b[31m31.7 MB/s\u001b[0m eta \u001b[36m0:00:00\u001b[0m\n",
            "\u001b[2K     \u001b[90m━━━━━━━━━━━━━━━━━━━━━━━━━━━━━━━━━━━━━━━━\u001b[0m \u001b[32m3.4/3.4 MB\u001b[0m \u001b[31m60.9 MB/s\u001b[0m eta \u001b[36m0:00:00\u001b[0m\n",
            "\u001b[2K     \u001b[90m━━━━━━━━━━━━━━━━━━━━━━━━━━━━━━━━━━━━━━━━\u001b[0m \u001b[32m1.3/1.3 MB\u001b[0m \u001b[31m49.6 MB/s\u001b[0m eta \u001b[36m0:00:00\u001b[0m\n",
            "\u001b[2K     \u001b[90m━━━━━━━━━━━━━━━━━━━━━━━━━━━━━━━━━━━━━━━━\u001b[0m \u001b[32m130.2/130.2 kB\u001b[0m \u001b[31m13.9 MB/s\u001b[0m eta \u001b[36m0:00:00\u001b[0m\n",
            "\u001b[2K     \u001b[90m━━━━━━━━━━━━━━━━━━━━━━━━━━━━━━━━━━━━━━━━\u001b[0m \u001b[32m86.8/86.8 kB\u001b[0m \u001b[31m10.1 MB/s\u001b[0m eta \u001b[36m0:00:00\u001b[0m\n",
            "\u001b[?25h  Building wheel for pypika (pyproject.toml) ... \u001b[?25l\u001b[?25hdone\n"
          ]
        }
      ],
      "source": [
        "! pip install -q --upgrade google-generativeai langchain-google-genai chromadb pypdf"
      ]
    },
    {
      "cell_type": "code",
      "source": [
        "from IPython.display import display\n",
        "from IPython.display import Markdown\n",
        "import textwrap\n",
        "\n",
        "def to_markdown(text):\n",
        "  text = text.replace('•', '  *')\n",
        "  return Markdown(textwrap.indent(text, '> ', predicate=lambda _: True))"
      ],
      "metadata": {
        "id": "UcoYYHG9vhQN"
      },
      "execution_count": null,
      "outputs": []
    },
    {
      "cell_type": "code",
      "source": [
        "import google.generativeai as genai\n",
        "from google.colab import userdata"
      ],
      "metadata": {
        "id": "TwUGpmTEwPsD"
      },
      "execution_count": null,
      "outputs": []
    },
    {
      "cell_type": "code",
      "source": [
        "import os\n",
        "GOOGLE_API_KEY=userdata.get('GOOGLE_API_KEY')\n",
        "genai.configure(api_key=GOOGLE_API_KEY)"
      ],
      "metadata": {
        "id": "JNSViJ__wUoA"
      },
      "execution_count": null,
      "outputs": []
    },
    {
      "cell_type": "code",
      "source": [
        "model = genai.GenerativeModel(model_name = \"gemini-pro\")\n",
        "model"
      ],
      "metadata": {
        "colab": {
          "base_uri": "https://localhost:8080/"
        },
        "id": "H3-QjodDy8c-",
        "outputId": "c0fa59f0-5fc4-48e1-f87d-aa44c8a22778"
      },
      "execution_count": null,
      "outputs": [
        {
          "output_type": "execute_result",
          "data": {
            "text/plain": [
              "genai.GenerativeModel(\n",
              "    model_name='models/gemini-pro',\n",
              "    generation_config={},\n",
              "    safety_settings={},\n",
              "    tools=None,\n",
              ")"
            ]
          },
          "metadata": {},
          "execution_count": 5
        }
      ]
    },
    {
      "cell_type": "code",
      "source": [
        "response = model.generate_content(\"What is GenAi?\")"
      ],
      "metadata": {
        "id": "uMrg94HV0DER"
      },
      "execution_count": null,
      "outputs": []
    },
    {
      "cell_type": "code",
      "source": [
        "to_markdown(response.text)"
      ],
      "metadata": {
        "colab": {
          "base_uri": "https://localhost:8080/",
          "height": 810
        },
        "id": "CM85QYZB0G0B",
        "outputId": "5b3a7fdb-3d6f-4284-ed84-11e4b8028653"
      },
      "execution_count": null,
      "outputs": [
        {
          "output_type": "execute_result",
          "data": {
            "text/plain": [
              "<IPython.core.display.Markdown object>"
            ],
            "text/markdown": "> **GenAi** (Generative Artificial Intelligence) refers to advanced AI techniques that can create novel data or content in a human-like manner. It involves models trained on massive datasets to learn patterns and relationships, enabling them to generate unique and often realistic outputs.\n> \n> **Key Characteristics:**\n> \n> * **Novelty:** GenAi systems generate new content or data that does not exist in their training datasets.\n> * **Human-likeness:** Outputs produced by GenAi models resemble human-generated content, including text, images, audio, and even code.\n> * **Learning-based:** GenAi models are trained on vast amounts of data, allowing them to learn complex patterns and generate diverse results.\n> * **Customization:** GenAi models can be fine-tuned or customized for specific tasks or domains.\n> \n> **Applications:**\n> \n> GenAi has a wide range of applications across various industries, including:\n> \n> * **Natural Language Generation:** Creating text, summaries, and dialogue.\n> * **Image and Video Generation:** Generating realistic images, videos, and virtual environments.\n> * **Music Generation:** Composing music, jingles, and sound effects.\n> * **Code Generation:** Writing code snippets, scripts, and entire programs.\n> * **Data Augmentation:** Generating synthetic data to enhance machine learning models.\n> * **Personalized Content:** Creating tailored content for users based on their preferences and demographics.\n> \n> **Examples:**\n> \n> * **GPT-3:** A powerful language model that can generate text, write code, and answer questions.\n> * **DALL-E 2:** An image generation model that can create photorealistic images from text prompts.\n> * **MuseNet:** A music generation model that can compose full-length songs in various styles.\n> * **OpenAI Codex:** A code generation model that can write code in multiple programming languages.\n> \n> **Benefits:**\n> \n> * **Increased Productivity:** GenAi can streamline tasks and reduce the time and effort required in content creation.\n> * **Enhanced Creativity:** GenAi provides new ideas and perspectives, inspiring innovation and exploration.\n> * **Personalized Experiences:** GenAi allows for customized content tailored to individual user needs.\n> * **Data Abundance:** GenAi can generate synthetic data, expanding datasets and enhancing machine learning capabilities."
          },
          "metadata": {},
          "execution_count": 7
        }
      ]
    },
    {
      "cell_type": "code",
      "source": [
        "from langchain_google_genai import ChatGoogleGenerativeAI"
      ],
      "metadata": {
        "id": "4QXoSonE0K1Z"
      },
      "execution_count": null,
      "outputs": []
    },
    {
      "cell_type": "code",
      "source": [
        "llm = ChatGoogleGenerativeAI(model=\"gemini-pro\",google_api_key=GOOGLE_API_KEY)"
      ],
      "metadata": {
        "id": "1T1HGl5_0eqr"
      },
      "execution_count": null,
      "outputs": []
    },
    {
      "cell_type": "code",
      "source": [
        "result = llm.invoke(\"What is GenAi?\")"
      ],
      "metadata": {
        "id": "ZKHC4F0X0f-i"
      },
      "execution_count": null,
      "outputs": []
    },
    {
      "cell_type": "code",
      "source": [
        "to_markdown(result.content)"
      ],
      "metadata": {
        "colab": {
          "base_uri": "https://localhost:8080/",
          "height": 248
        },
        "id": "qD4_lCWE0nJt",
        "outputId": "004fc29a-9bb2-422c-daaf-95a9d0f44cac"
      },
      "execution_count": null,
      "outputs": [
        {
          "output_type": "execute_result",
          "data": {
            "text/plain": [
              "<IPython.core.display.Markdown object>"
            ],
            "text/markdown": "> GenAi is a generative artificial intelligence model developed by Google. It is a large language model that is trained on a massive dataset of text and code. GenAi can be used for a variety of natural language processing tasks, such as text generation, translation, summarization, and question answering.\n> \n> GenAi is one of the most powerful language models available today. It has been used to create a variety of impressive applications, such as a chatbot that can hold natural conversations, a system that can translate text between over 100 languages, and a tool that can generate creative text.\n> \n> GenAi is still under development, but it has the potential to revolutionize the way we interact with computers. It could make it possible for us to communicate with computers in a more natural way, and it could help us to solve complex problems more easily."
          },
          "metadata": {},
          "execution_count": 11
        }
      ]
    },
    {
      "cell_type": "code",
      "source": [
        "!sudo apt -y -qq install tesseract-ocr libtesseract-dev\n",
        "!sudo apt-get -y -qq install poppler-utils libxml2-dev libxslt1-dev antiword unrtf poppler-utils pstotext tesseract-ocr flac ffmpeg lame libmad0 libsox-fmt-mp3 sox libjpeg-dev swig\n",
        "!pip install langchain"
      ],
      "metadata": {
        "colab": {
          "base_uri": "https://localhost:8080/"
        },
        "id": "y3fq6wUc0u8Y",
        "outputId": "ee82bba1-0379-4e05-a949-3c1ebd8ae2d4"
      },
      "execution_count": null,
      "outputs": [
        {
          "output_type": "stream",
          "name": "stdout",
          "text": [
            "The following additional packages will be installed:\n",
            "  libarchive-dev libleptonica-dev tesseract-ocr-eng tesseract-ocr-osd\n",
            "The following NEW packages will be installed:\n",
            "  libarchive-dev libleptonica-dev libtesseract-dev tesseract-ocr\n",
            "  tesseract-ocr-eng tesseract-ocr-osd\n",
            "0 upgraded, 6 newly installed, 0 to remove and 45 not upgraded.\n",
            "Need to get 8,560 kB of archives.\n",
            "After this operation, 31.6 MB of additional disk space will be used.\n",
            "debconf: unable to initialize frontend: Dialog\n",
            "debconf: (No usable dialog-like program is installed, so the dialog based frontend cannot be used. at /usr/share/perl5/Debconf/FrontEnd/Dialog.pm line 78, <> line 6.)\n",
            "debconf: falling back to frontend: Readline\n",
            "debconf: unable to initialize frontend: Readline\n",
            "debconf: (This frontend requires a controlling tty.)\n",
            "debconf: falling back to frontend: Teletype\n",
            "dpkg-preconfigure: unable to re-open stdin: \n",
            "Selecting previously unselected package libarchive-dev:amd64.\n",
            "(Reading database ... 121752 files and directories currently installed.)\n",
            "Preparing to unpack .../0-libarchive-dev_3.6.0-1ubuntu1_amd64.deb ...\n",
            "Unpacking libarchive-dev:amd64 (3.6.0-1ubuntu1) ...\n",
            "Selecting previously unselected package libleptonica-dev.\n",
            "Preparing to unpack .../1-libleptonica-dev_1.82.0-3build1_amd64.deb ...\n",
            "Unpacking libleptonica-dev (1.82.0-3build1) ...\n",
            "Selecting previously unselected package libtesseract-dev:amd64.\n",
            "Preparing to unpack .../2-libtesseract-dev_4.1.1-2.1build1_amd64.deb ...\n",
            "Unpacking libtesseract-dev:amd64 (4.1.1-2.1build1) ...\n",
            "Selecting previously unselected package tesseract-ocr-eng.\n",
            "Preparing to unpack .../3-tesseract-ocr-eng_1%3a4.00~git30-7274cfa-1.1_all.deb ...\n",
            "Unpacking tesseract-ocr-eng (1:4.00~git30-7274cfa-1.1) ...\n",
            "Selecting previously unselected package tesseract-ocr-osd.\n",
            "Preparing to unpack .../4-tesseract-ocr-osd_1%3a4.00~git30-7274cfa-1.1_all.deb ...\n",
            "Unpacking tesseract-ocr-osd (1:4.00~git30-7274cfa-1.1) ...\n",
            "Selecting previously unselected package tesseract-ocr.\n",
            "Preparing to unpack .../5-tesseract-ocr_4.1.1-2.1build1_amd64.deb ...\n",
            "Unpacking tesseract-ocr (4.1.1-2.1build1) ...\n",
            "Setting up tesseract-ocr-eng (1:4.00~git30-7274cfa-1.1) ...\n",
            "Setting up libleptonica-dev (1.82.0-3build1) ...\n",
            "Setting up libarchive-dev:amd64 (3.6.0-1ubuntu1) ...\n",
            "Setting up tesseract-ocr-osd (1:4.00~git30-7274cfa-1.1) ...\n",
            "Setting up libtesseract-dev:amd64 (4.1.1-2.1build1) ...\n",
            "Setting up tesseract-ocr (4.1.1-2.1build1) ...\n",
            "Processing triggers for man-db (2.10.2-1) ...\n",
            "debconf: unable to initialize frontend: Dialog\n",
            "debconf: (No usable dialog-like program is installed, so the dialog based frontend cannot be used. at /usr/share/perl5/Debconf/FrontEnd/Dialog.pm line 78, <> line 29.)\n",
            "debconf: falling back to frontend: Readline\n",
            "debconf: unable to initialize frontend: Readline\n",
            "debconf: (This frontend requires a controlling tty.)\n",
            "debconf: falling back to frontend: Teletype\n",
            "dpkg-preconfigure: unable to re-open stdin: \n",
            "Selecting previously unselected package fonts-droid-fallback.\n",
            "(Reading database ... 121932 files and directories currently installed.)\n",
            "Preparing to unpack .../00-fonts-droid-fallback_1%3a6.0.1r16-1.1build1_all.deb ...\n",
            "Unpacking fonts-droid-fallback (1:6.0.1r16-1.1build1) ...\n",
            "Selecting previously unselected package poppler-data.\n",
            "Preparing to unpack .../01-poppler-data_0.4.11-1_all.deb ...\n",
            "Unpacking poppler-data (0.4.11-1) ...\n",
            "Selecting previously unselected package antiword.\n",
            "Preparing to unpack .../02-antiword_0.37-16_amd64.deb ...\n",
            "Unpacking antiword (0.37-16) ...\n",
            "Selecting previously unselected package flac.\n",
            "Preparing to unpack .../03-flac_1.3.3-2ubuntu0.2_amd64.deb ...\n",
            "Unpacking flac (1.3.3-2ubuntu0.2) ...\n",
            "Selecting previously unselected package fonts-noto-mono.\n",
            "Preparing to unpack .../04-fonts-noto-mono_20201225-1build1_all.deb ...\n",
            "Unpacking fonts-noto-mono (20201225-1build1) ...\n",
            "Selecting previously unselected package fonts-urw-base35.\n",
            "Preparing to unpack .../05-fonts-urw-base35_20200910-1_all.deb ...\n",
            "Unpacking fonts-urw-base35 (20200910-1) ...\n",
            "Selecting previously unselected package libgs9-common.\n",
            "Preparing to unpack .../06-libgs9-common_9.55.0~dfsg1-0ubuntu5.6_all.deb ...\n",
            "Unpacking libgs9-common (9.55.0~dfsg1-0ubuntu5.6) ...\n",
            "Selecting previously unselected package libidn12:amd64.\n",
            "Preparing to unpack .../07-libidn12_1.38-4ubuntu1_amd64.deb ...\n",
            "Unpacking libidn12:amd64 (1.38-4ubuntu1) ...\n",
            "Selecting previously unselected package libijs-0.35:amd64.\n",
            "Preparing to unpack .../08-libijs-0.35_0.35-15build2_amd64.deb ...\n",
            "Unpacking libijs-0.35:amd64 (0.35-15build2) ...\n",
            "Selecting previously unselected package libjbig2dec0:amd64.\n",
            "Preparing to unpack .../09-libjbig2dec0_0.19-3build2_amd64.deb ...\n",
            "Unpacking libjbig2dec0:amd64 (0.19-3build2) ...\n",
            "Selecting previously unselected package libgs9:amd64.\n",
            "Preparing to unpack .../10-libgs9_9.55.0~dfsg1-0ubuntu5.6_amd64.deb ...\n",
            "Unpacking libgs9:amd64 (9.55.0~dfsg1-0ubuntu5.6) ...\n",
            "Selecting previously unselected package ghostscript.\n",
            "Preparing to unpack .../11-ghostscript_9.55.0~dfsg1-0ubuntu5.6_amd64.deb ...\n",
            "Unpacking ghostscript (9.55.0~dfsg1-0ubuntu5.6) ...\n",
            "Selecting previously unselected package lame.\n",
            "Preparing to unpack .../12-lame_3.100-3build2_amd64.deb ...\n",
            "Unpacking lame (3.100-3build2) ...\n",
            "Selecting previously unselected package libid3tag0:amd64.\n",
            "Preparing to unpack .../13-libid3tag0_0.15.1b-14_amd64.deb ...\n",
            "Unpacking libid3tag0:amd64 (0.15.1b-14) ...\n",
            "Selecting previously unselected package libmad0:amd64.\n",
            "Preparing to unpack .../14-libmad0_0.15.1b-10ubuntu1_amd64.deb ...\n",
            "Unpacking libmad0:amd64 (0.15.1b-10ubuntu1) ...\n",
            "Selecting previously unselected package libopencore-amrnb0:amd64.\n",
            "Preparing to unpack .../15-libopencore-amrnb0_0.1.5-1_amd64.deb ...\n",
            "Unpacking libopencore-amrnb0:amd64 (0.1.5-1) ...\n",
            "Selecting previously unselected package libopencore-amrwb0:amd64.\n",
            "Preparing to unpack .../16-libopencore-amrwb0_0.1.5-1_amd64.deb ...\n",
            "Unpacking libopencore-amrwb0:amd64 (0.1.5-1) ...\n",
            "Selecting previously unselected package libsox3:amd64.\n",
            "Preparing to unpack .../17-libsox3_14.4.2+git20190427-2+deb11u2ubuntu0.22.04.1_amd64.deb ...\n",
            "Unpacking libsox3:amd64 (14.4.2+git20190427-2+deb11u2ubuntu0.22.04.1) ...\n",
            "Selecting previously unselected package libsox-fmt-alsa:amd64.\n",
            "Preparing to unpack .../18-libsox-fmt-alsa_14.4.2+git20190427-2+deb11u2ubuntu0.22.04.1_amd64.deb ...\n",
            "Unpacking libsox-fmt-alsa:amd64 (14.4.2+git20190427-2+deb11u2ubuntu0.22.04.1) ...\n",
            "Selecting previously unselected package libwavpack1:amd64.\n",
            "Preparing to unpack .../19-libwavpack1_5.4.0-1build2_amd64.deb ...\n",
            "Unpacking libwavpack1:amd64 (5.4.0-1build2) ...\n",
            "Selecting previously unselected package libsox-fmt-base:amd64.\n",
            "Preparing to unpack .../20-libsox-fmt-base_14.4.2+git20190427-2+deb11u2ubuntu0.22.04.1_amd64.deb ...\n",
            "Unpacking libsox-fmt-base:amd64 (14.4.2+git20190427-2+deb11u2ubuntu0.22.04.1) ...\n",
            "Selecting previously unselected package libsox-fmt-mp3:amd64.\n",
            "Preparing to unpack .../21-libsox-fmt-mp3_14.4.2+git20190427-2+deb11u2ubuntu0.22.04.1_amd64.deb ...\n",
            "Unpacking libsox-fmt-mp3:amd64 (14.4.2+git20190427-2+deb11u2ubuntu0.22.04.1) ...\n",
            "Selecting previously unselected package libxslt1-dev:amd64.\n",
            "Preparing to unpack .../22-libxslt1-dev_1.1.34-4ubuntu0.22.04.1_amd64.deb ...\n",
            "Unpacking libxslt1-dev:amd64 (1.1.34-4ubuntu0.22.04.1) ...\n",
            "Selecting previously unselected package poppler-utils.\n",
            "Preparing to unpack .../23-poppler-utils_22.02.0-2ubuntu0.3_amd64.deb ...\n",
            "Unpacking poppler-utils (22.02.0-2ubuntu0.3) ...\n",
            "Selecting previously unselected package pstotext.\n",
            "Preparing to unpack .../24-pstotext_1.9-6build1_amd64.deb ...\n",
            "Unpacking pstotext (1.9-6build1) ...\n",
            "Selecting previously unselected package sox.\n",
            "Preparing to unpack .../25-sox_14.4.2+git20190427-2+deb11u2ubuntu0.22.04.1_amd64.deb ...\n",
            "Unpacking sox (14.4.2+git20190427-2+deb11u2ubuntu0.22.04.1) ...\n",
            "Selecting previously unselected package swig4.0.\n",
            "Preparing to unpack .../26-swig4.0_4.0.2-1ubuntu1_amd64.deb ...\n",
            "Unpacking swig4.0 (4.0.2-1ubuntu1) ...\n",
            "Selecting previously unselected package swig.\n",
            "Preparing to unpack .../27-swig_4.0.2-1ubuntu1_all.deb ...\n",
            "Unpacking swig (4.0.2-1ubuntu1) ...\n",
            "Selecting previously unselected package unrtf.\n",
            "Preparing to unpack .../28-unrtf_0.21.10-clean-1_amd64.deb ...\n",
            "Unpacking unrtf (0.21.10-clean-1) ...\n",
            "Setting up unrtf (0.21.10-clean-1) ...\n",
            "Setting up libxslt1-dev:amd64 (1.1.34-4ubuntu0.22.04.1) ...\n",
            "Setting up fonts-noto-mono (20201225-1build1) ...\n",
            "Setting up libsox3:amd64 (14.4.2+git20190427-2+deb11u2ubuntu0.22.04.1) ...\n",
            "Setting up libijs-0.35:amd64 (0.35-15build2) ...\n",
            "Setting up fonts-urw-base35 (20200910-1) ...\n",
            "Setting up lame (3.100-3build2) ...\n",
            "Setting up poppler-data (0.4.11-1) ...\n",
            "Setting up libid3tag0:amd64 (0.15.1b-14) ...\n",
            "Setting up libopencore-amrwb0:amd64 (0.1.5-1) ...\n",
            "Setting up flac (1.3.3-2ubuntu0.2) ...\n",
            "Setting up libjbig2dec0:amd64 (0.19-3build2) ...\n",
            "Setting up libidn12:amd64 (1.38-4ubuntu1) ...\n",
            "Setting up libsox-fmt-alsa:amd64 (14.4.2+git20190427-2+deb11u2ubuntu0.22.04.1) ...\n",
            "Setting up libmad0:amd64 (0.15.1b-10ubuntu1) ...\n",
            "Setting up libwavpack1:amd64 (5.4.0-1build2) ...\n",
            "Setting up libopencore-amrnb0:amd64 (0.1.5-1) ...\n",
            "Setting up antiword (0.37-16) ...\n",
            "Setting up libsox-fmt-base:amd64 (14.4.2+git20190427-2+deb11u2ubuntu0.22.04.1) ...\n",
            "Setting up fonts-droid-fallback (1:6.0.1r16-1.1build1) ...\n",
            "Setting up poppler-utils (22.02.0-2ubuntu0.3) ...\n",
            "Setting up swig4.0 (4.0.2-1ubuntu1) ...\n",
            "Setting up libsox-fmt-mp3:amd64 (14.4.2+git20190427-2+deb11u2ubuntu0.22.04.1) ...\n",
            "Setting up libgs9-common (9.55.0~dfsg1-0ubuntu5.6) ...\n",
            "Setting up swig (4.0.2-1ubuntu1) ...\n",
            "Setting up libgs9:amd64 (9.55.0~dfsg1-0ubuntu5.6) ...\n",
            "Setting up ghostscript (9.55.0~dfsg1-0ubuntu5.6) ...\n",
            "Setting up sox (14.4.2+git20190427-2+deb11u2ubuntu0.22.04.1) ...\n",
            "Setting up pstotext (1.9-6build1) ...\n",
            "Processing triggers for libc-bin (2.35-0ubuntu3.4) ...\n",
            "/sbin/ldconfig.real: /usr/local/lib/libtbbmalloc.so.2 is not a symbolic link\n",
            "\n",
            "/sbin/ldconfig.real: /usr/local/lib/libtbbbind_2_0.so.3 is not a symbolic link\n",
            "\n",
            "/sbin/ldconfig.real: /usr/local/lib/libtbb.so.12 is not a symbolic link\n",
            "\n",
            "/sbin/ldconfig.real: /usr/local/lib/libtbbmalloc_proxy.so.2 is not a symbolic link\n",
            "\n",
            "/sbin/ldconfig.real: /usr/local/lib/libtbbbind_2_5.so.3 is not a symbolic link\n",
            "\n",
            "/sbin/ldconfig.real: /usr/local/lib/libtbbbind.so.3 is not a symbolic link\n",
            "\n",
            "Processing triggers for man-db (2.10.2-1) ...\n",
            "Processing triggers for fontconfig (2.13.1-4.2ubuntu5) ...\n",
            "Collecting langchain\n",
            "  Downloading langchain-0.1.16-py3-none-any.whl (817 kB)\n",
            "\u001b[2K     \u001b[90m━━━━━━━━━━━━━━━━━━━━━━━━━━━━━━━━━━━━━━━━\u001b[0m \u001b[32m817.7/817.7 kB\u001b[0m \u001b[31m8.0 MB/s\u001b[0m eta \u001b[36m0:00:00\u001b[0m\n",
            "\u001b[?25hRequirement already satisfied: PyYAML>=5.3 in /usr/local/lib/python3.10/dist-packages (from langchain) (6.0.1)\n",
            "Requirement already satisfied: SQLAlchemy<3,>=1.4 in /usr/local/lib/python3.10/dist-packages (from langchain) (2.0.29)\n",
            "Requirement already satisfied: aiohttp<4.0.0,>=3.8.3 in /usr/local/lib/python3.10/dist-packages (from langchain) (3.9.3)\n",
            "Requirement already satisfied: async-timeout<5.0.0,>=4.0.0 in /usr/local/lib/python3.10/dist-packages (from langchain) (4.0.3)\n",
            "Collecting dataclasses-json<0.7,>=0.5.7 (from langchain)\n",
            "  Downloading dataclasses_json-0.6.4-py3-none-any.whl (28 kB)\n",
            "Requirement already satisfied: jsonpatch<2.0,>=1.33 in /usr/local/lib/python3.10/dist-packages (from langchain) (1.33)\n",
            "Collecting langchain-community<0.1,>=0.0.32 (from langchain)\n",
            "  Downloading langchain_community-0.0.32-py3-none-any.whl (1.9 MB)\n",
            "\u001b[2K     \u001b[90m━━━━━━━━━━━━━━━━━━━━━━━━━━━━━━━━━━━━━━━━\u001b[0m \u001b[32m1.9/1.9 MB\u001b[0m \u001b[31m14.3 MB/s\u001b[0m eta \u001b[36m0:00:00\u001b[0m\n",
            "\u001b[?25hRequirement already satisfied: langchain-core<0.2.0,>=0.1.42 in /usr/local/lib/python3.10/dist-packages (from langchain) (0.1.42)\n",
            "Collecting langchain-text-splitters<0.1,>=0.0.1 (from langchain)\n",
            "  Downloading langchain_text_splitters-0.0.1-py3-none-any.whl (21 kB)\n",
            "Requirement already satisfied: langsmith<0.2.0,>=0.1.17 in /usr/local/lib/python3.10/dist-packages (from langchain) (0.1.45)\n",
            "Requirement already satisfied: numpy<2,>=1 in /usr/local/lib/python3.10/dist-packages (from langchain) (1.25.2)\n",
            "Requirement already satisfied: pydantic<3,>=1 in /usr/local/lib/python3.10/dist-packages (from langchain) (2.6.4)\n",
            "Requirement already satisfied: requests<3,>=2 in /usr/local/lib/python3.10/dist-packages (from langchain) (2.31.0)\n",
            "Requirement already satisfied: tenacity<9.0.0,>=8.1.0 in /usr/local/lib/python3.10/dist-packages (from langchain) (8.2.3)\n",
            "Requirement already satisfied: aiosignal>=1.1.2 in /usr/local/lib/python3.10/dist-packages (from aiohttp<4.0.0,>=3.8.3->langchain) (1.3.1)\n",
            "Requirement already satisfied: attrs>=17.3.0 in /usr/local/lib/python3.10/dist-packages (from aiohttp<4.0.0,>=3.8.3->langchain) (23.2.0)\n",
            "Requirement already satisfied: frozenlist>=1.1.1 in /usr/local/lib/python3.10/dist-packages (from aiohttp<4.0.0,>=3.8.3->langchain) (1.4.1)\n",
            "Requirement already satisfied: multidict<7.0,>=4.5 in /usr/local/lib/python3.10/dist-packages (from aiohttp<4.0.0,>=3.8.3->langchain) (6.0.5)\n",
            "Requirement already satisfied: yarl<2.0,>=1.0 in /usr/local/lib/python3.10/dist-packages (from aiohttp<4.0.0,>=3.8.3->langchain) (1.9.4)\n",
            "Collecting marshmallow<4.0.0,>=3.18.0 (from dataclasses-json<0.7,>=0.5.7->langchain)\n",
            "  Downloading marshmallow-3.21.1-py3-none-any.whl (49 kB)\n",
            "\u001b[2K     \u001b[90m━━━━━━━━━━━━━━━━━━━━━━━━━━━━━━━━━━━━━━━━\u001b[0m \u001b[32m49.4/49.4 kB\u001b[0m \u001b[31m5.9 MB/s\u001b[0m eta \u001b[36m0:00:00\u001b[0m\n",
            "\u001b[?25hCollecting typing-inspect<1,>=0.4.0 (from dataclasses-json<0.7,>=0.5.7->langchain)\n",
            "  Downloading typing_inspect-0.9.0-py3-none-any.whl (8.8 kB)\n",
            "Requirement already satisfied: jsonpointer>=1.9 in /usr/local/lib/python3.10/dist-packages (from jsonpatch<2.0,>=1.33->langchain) (2.4)\n",
            "Requirement already satisfied: packaging<24.0,>=23.2 in /usr/local/lib/python3.10/dist-packages (from langchain-core<0.2.0,>=0.1.42->langchain) (23.2)\n",
            "Requirement already satisfied: orjson<4.0.0,>=3.9.14 in /usr/local/lib/python3.10/dist-packages (from langsmith<0.2.0,>=0.1.17->langchain) (3.10.0)\n",
            "Requirement already satisfied: annotated-types>=0.4.0 in /usr/local/lib/python3.10/dist-packages (from pydantic<3,>=1->langchain) (0.6.0)\n",
            "Requirement already satisfied: pydantic-core==2.16.3 in /usr/local/lib/python3.10/dist-packages (from pydantic<3,>=1->langchain) (2.16.3)\n",
            "Requirement already satisfied: typing-extensions>=4.6.1 in /usr/local/lib/python3.10/dist-packages (from pydantic<3,>=1->langchain) (4.10.0)\n",
            "Requirement already satisfied: charset-normalizer<4,>=2 in /usr/local/lib/python3.10/dist-packages (from requests<3,>=2->langchain) (3.3.2)\n",
            "Requirement already satisfied: idna<4,>=2.5 in /usr/local/lib/python3.10/dist-packages (from requests<3,>=2->langchain) (3.6)\n",
            "Requirement already satisfied: urllib3<3,>=1.21.1 in /usr/local/lib/python3.10/dist-packages (from requests<3,>=2->langchain) (2.0.7)\n",
            "Requirement already satisfied: certifi>=2017.4.17 in /usr/local/lib/python3.10/dist-packages (from requests<3,>=2->langchain) (2024.2.2)\n",
            "Requirement already satisfied: greenlet!=0.4.17 in /usr/local/lib/python3.10/dist-packages (from SQLAlchemy<3,>=1.4->langchain) (3.0.3)\n",
            "Collecting mypy-extensions>=0.3.0 (from typing-inspect<1,>=0.4.0->dataclasses-json<0.7,>=0.5.7->langchain)\n",
            "  Downloading mypy_extensions-1.0.0-py3-none-any.whl (4.7 kB)\n",
            "Installing collected packages: mypy-extensions, marshmallow, typing-inspect, dataclasses-json, langchain-text-splitters, langchain-community, langchain\n",
            "Successfully installed dataclasses-json-0.6.4 langchain-0.1.16 langchain-community-0.0.32 langchain-text-splitters-0.0.1 marshmallow-3.21.1 mypy-extensions-1.0.0 typing-inspect-0.9.0\n"
          ]
        }
      ]
    },
    {
      "cell_type": "code",
      "source": [
        "import urllib\n",
        "import warnings\n",
        "from pathlib import Path as p\n",
        "from pprint import pprint\n",
        "\n",
        "import pandas as pd\n",
        "from langchain import PromptTemplate\n",
        "from langchain.chains.question_answering import load_qa_chain\n",
        "from langchain.document_loaders import PyPDFLoader\n",
        "from langchain.text_splitter import RecursiveCharacterTextSplitter\n",
        "from langchain.vectorstores import Chroma\n",
        "from langchain.chains import RetrievalQA\n",
        "\n",
        "warnings.filterwarnings(\"ignore\")"
      ],
      "metadata": {
        "id": "QKGu118j2Asc"
      },
      "execution_count": null,
      "outputs": []
    },
    {
      "cell_type": "code",
      "source": [
        "from langchain_google_genai import ChatGoogleGenerativeAI"
      ],
      "metadata": {
        "id": "-Oqb1_ax3LZ8"
      },
      "execution_count": null,
      "outputs": []
    },
    {
      "cell_type": "code",
      "source": [
        "model = ChatGoogleGenerativeAI(model=\"gemini-pro\",google_api_key=GOOGLE_API_KEY,temperature=0.2,convert_system_message_to_human=True)"
      ],
      "metadata": {
        "id": "dbn30tff3b62"
      },
      "execution_count": null,
      "outputs": []
    },
    {
      "cell_type": "code",
      "source": [
        "pdf_loader = PyPDFLoader(\"/content/sample_data/ebooks-implementation-guide-sme.pdf\")\n",
        "pages = pdf_loader.load_and_split()\n",
        "print(pages[7].page_content)"
      ],
      "metadata": {
        "colab": {
          "base_uri": "https://localhost:8080/"
        },
        "id": "IOyy_M7t3flv",
        "outputId": "af31e095-6097-4b40-9bd6-9c39680cdc7d"
      },
      "execution_count": null,
      "outputs": [
        {
          "output_type": "stream",
          "name": "stdout",
          "text": [
            "5\n",
            "Implementing Zoho CRM for an SMEBusiness goal How do you plan to achieve it? What to look for in CRM\n",
            "Reduce operational cost and \n",
            "time Automate manual and repeated \n",
            "processes or actionsUse workflows and macros to\n",
            "automate repetitive actions�\n",
            "Increase cross selling and \n",
            "enhance client retention Centralize all customer related \n",
            "data to give holistic picture of \n",
            "customer’s sales cycle to all the \n",
            "teamsHave a customer’s data, social\n",
            "media interactions, email\n",
            "communications, and support\n",
            "requests, all in one place�\n",
            "Activity sheet - Enter your business goals� (Refer Appendix I to download the complete \n",
            "activity sheet)\n",
            "Business goals How do you plan to achieve them? What to look for in CRM\n"
          ]
        }
      ]
    },
    {
      "cell_type": "code",
      "source": [
        "len(pages)"
      ],
      "metadata": {
        "colab": {
          "base_uri": "https://localhost:8080/"
        },
        "id": "bZUQBsz740vx",
        "outputId": "a1491833-4839-4d92-cde6-6b3224323f82"
      },
      "execution_count": null,
      "outputs": [
        {
          "output_type": "execute_result",
          "data": {
            "text/plain": [
              "51"
            ]
          },
          "metadata": {},
          "execution_count": 18
        }
      ]
    },
    {
      "cell_type": "code",
      "source": [
        "from langchain_google_genai import GoogleGenerativeAIEmbeddings"
      ],
      "metadata": {
        "id": "Bj3JX0r55M4y"
      },
      "execution_count": null,
      "outputs": []
    },
    {
      "cell_type": "code",
      "source": [
        "text_splitter = RecursiveCharacterTextSplitter(chunk_size=10000, chunk_overlap=1000)\n",
        "context = \"\\n\\n\".join(str(p.page_content) for p in pages)\n",
        "texts = text_splitter.split_text(context)"
      ],
      "metadata": {
        "id": "YYqoBtza5VGl"
      },
      "execution_count": null,
      "outputs": []
    },
    {
      "cell_type": "code",
      "source": [
        "embeddings = GoogleGenerativeAIEmbeddings(model=\"models/embedding-001\",google_api_key=GOOGLE_API_KEY)"
      ],
      "metadata": {
        "id": "-bw0U1wC6rKt"
      },
      "execution_count": null,
      "outputs": []
    },
    {
      "cell_type": "code",
      "source": [
        "vector_index = Chroma.from_texts(texts, embeddings).as_retriever(search_kwargs={\"k\":5})"
      ],
      "metadata": {
        "id": "ugBichK-Nx_K"
      },
      "execution_count": null,
      "outputs": []
    },
    {
      "cell_type": "code",
      "source": [
        "qa_chain = RetrievalQA.from_chain_type(\n",
        "    model,\n",
        "    retriever=vector_index,\n",
        "    return_source_documents=True)"
      ],
      "metadata": {
        "id": "PEqvQSU4P08O"
      },
      "execution_count": null,
      "outputs": []
    },
    {
      "cell_type": "code",
      "source": [
        "question = \"Tell me implementation strategy\"\n",
        "result = qa_chain({\"query\": question})\n",
        "result[\"result\"]"
      ],
      "metadata": {
        "colab": {
          "base_uri": "https://localhost:8080/",
          "height": 36
        },
        "id": "9r6qcdTWQRf_",
        "outputId": "11d0111d-367f-40dd-8540-4fd2ca93fe5c"
      },
      "execution_count": null,
      "outputs": [
        {
          "output_type": "execute_result",
          "data": {
            "text/plain": [
              "'1. Planning\\n2. Analyzing\\n3. Designing\\n4. Validating\\n5. Deploying'"
            ],
            "application/vnd.google.colaboratory.intrinsic+json": {
              "type": "string"
            }
          },
          "metadata": {},
          "execution_count": 24
        }
      ]
    },
    {
      "cell_type": "code",
      "source": [
        "Markdown(result[\"result\"])"
      ],
      "metadata": {
        "colab": {
          "base_uri": "https://localhost:8080/",
          "height": 132
        },
        "id": "eoerRbTbQ-sH",
        "outputId": "5af273ea-ad8b-4e7f-c4e9-870c94c95870"
      },
      "execution_count": null,
      "outputs": [
        {
          "output_type": "execute_result",
          "data": {
            "text/plain": [
              "<IPython.core.display.Markdown object>"
            ],
            "text/markdown": "1. Planning\n2. Analyzing\n3. Designing\n4. Validating\n5. Deploying"
          },
          "metadata": {},
          "execution_count": 25
        }
      ]
    },
    {
      "cell_type": "code",
      "source": [
        "result[\"source_documents\"]"
      ],
      "metadata": {
        "colab": {
          "base_uri": "https://localhost:8080/"
        },
        "id": "R8ANLGATRLkg",
        "outputId": "baad06c3-4375-4ed4-a33e-d8b010617756"
      },
      "execution_count": null,
      "outputs": [
        {
          "output_type": "execute_result",
          "data": {
            "text/plain": [
              "[Document(page_content='I\\nImplementing Zoho CRM for an SME\\nZoho CRM\\nImplementation Guide for\\nSmall and Medium Businesses\\n\\nII\\nImplementing Zoho CRM for an SMEWho can use \\nthis document?\\nThis guide will benefit those \\nusers who are responsible for \\nadministering the CRM system in \\ntheir organization, those looking \\nat implementing CRM for the first \\ntime in their business or\\nmigrating to Zoho CRM from\\nother CRM solutions.What challenges will this document address?\\nIncorrect implementation:  This guide will take you \\nstep-by-step through the implementation. \\nLimited functionalities in CRM restricting\\nbusiness growth: Our wide range of features will \\naddress the advanced requirements of an\\nexpanding business.\\nLack of metrics to gauge CRM project success:  \\nThis guide will help you identify your business \\ngoals so that you set up the system accordingly \\nand make data-driven decisions.\\nPoor user adoption: The necessary training\\ndocuments will help your team adopt the new \\nCRM system.Migrating existing data:  A checklist will help you \\nprepare for smooth migration.\\nImplementation Plan\\nList your sales and marketing goals\\nIdentify the people who will access your CRMMap your sales and marketing process to CRMWhat are the benefits of using Zoho CRM?\\nHolistic view of  customers and their data \\nBetter contact and deal managementAutomate sales follow-upsSecurity of business and customer’s data\\nGreater coordination and efficiency within teams Improve communication with customers \\nBroader spectrum for analyzing sales and\\nmarketing metrics\\n\\nImplementing Zoho CRM for an SMETable of Contents\\nIntroduction   �  �  �  �  �  �  �  �  �  �  �  �  �  �  �  �  �  �  �  �  �  �  �  �  �  �  �  �  �  �  �  �  �  �  �  �  �  �  �  �    1\\nImplementation strategy   �  �  �  �  �  �  �  �  �  �  �  �  �  �  �  �  �  �  �  �  �  �  �  �  �  �  �  �  �  �  �  �  �    3\\nImplementation plan   �  �  �  �  �  �  �  �  �  �  �  �  �  �  �  �  �  �  �  �  �  �  �  �  �  �  �  �  �  �  �  �  �  �  �    4\\nDefine business goals    �  �  �  �  �  �  �  �  �  �  �  �  �  �  �  �  �  �  �  �  �  �  �  �  �  �  �  �  �  �  �  �  �  �  �  �  �  �     4\\nDocument, analyze, and map your business processes  �  �  �  �  �  �  �  �  �  �  �  �  �  �  �  �  �  �  �  �     6\\nIdentify the key players who will help you understand every aspect of your business   �  �  �    13\\nStart Implementing Zoho CRM   �  �  �  �  �  �  �  �  �  �  �  �  �  �  �  �  �  �  �  �  �  �  �  �  �  �  �  �  �  �   15\\nSet up basic organization details    �  �  �  �  �  �  �  �  �  �  �  �  �  �  �  �  �  �  �  �  �  �  �  �  �  �  �  �  �  �  �  �   15\\nCustomize the account and set up basic modules    �  �  �  �  �  �  �  �  �  �  �  �  �  �  �  �  �  �  �  �  �  �    16\\nIdentify users who will access CRM and set their roles and profiles   �  �  �  �  �  �  �  �  �  �  �  �  �    22\\nIdentify Users  �  �  �  �  �  �  �  �  �  �  �  �  �  �  �  �  �  �  �  �  �  �  �  �  �  �  �  �  �  �  �  �  �  �  �  �  �  �  �  �  �    23\\nCreate Roles   �  �  �  �  �  �  �  �  �  �  �  �  �  �  �  �  �  �  �  �  �  �  �  �  �  �  �  �  �  �  �  �  �  �  �  �  �  �  �  �  �    24\\nCreate Profiles   �  �  �  �  �  �  �  �  �  �  �  �  �  �  �  �  �  �  �  �  �  �  �  �  �  �  �  �  �  �  �  �  �  �  �  �  �  �  �  �    25\\nAdd users and invite them to CRM    �  �  �  �  �  �  �  �  �  �  �  �  �  �  �  �  �  �  �  �  �  �  �  �  �  �  �  �  �  �  �    29\\nEnable data security    �  �  �  �  �  �  �  �  �  �  �  �  �  �  �  �  �  �  �  �  �  �  �  �  �  �  �  �  �  �  �  �  �  �  �  �  �  �  �    29\\nEstablish data visibility and accessibility rules   �  �  �  �  �  �  �  �  �  �  �  �  �  �  �  �  �  �  �  �  �  �  �  �  �    29\\nSet up email integration and lead generation processes   �  �  �  �  �  �  �  �  �  �  �  �  �  �  �  �  �  �  �    30\\nEstablish basic automation processes   �  �  �  �  �  �  �  �  �  �  �  �  �  �  �  �  �  �  �  �  �  �  �  �  �  �  �  �  �    32\\nBring data into Zoho CRM    �  �  �  �  �  �  �  �  �  �  �  �  �  �  �  �  �  �  �  �  �  �  �  �  �  �  �  �  �  �  �  �  �  �  �  �    32\\nDetermine the business metrics you want to see   �  �  �  �  �  �  �  �  �  �  �  �  �  �  �  �  �  �  �  �  �  �  �    34\\n\\n1\\nImplementing Zoho CRM for an SMEIntroduction\\nBusinesses are classified as small and medium-sized based on their number of employees and the \\nturnover per year. In such organizations, the business plan is mostly growth-centric, as they continuously \\ntry new ways to engage with their customers and align their sales strategies to bring out the best� Using \\na software can help them run the business effortlessly, however implementing a new software into an \\never-changing, growing ecosystem has its set of challenges. \\nWe have identified some common challenges that majority of small and medium-sized enterprises \\n(SMEs) face while adopting to a new system� We have mapped the challenges to Zoho CRM’s attributes, \\nthat will help to plan the right approach needed for implementing CRM� \\nChallenge Solution What does Zoho CRM provide?\\nGrowing business requirements \\nmay not match the CRM’s\\nfunctionalityRange of features to suit all \\nrequirementsYou need not worry about storage or \\nfeature limitations for your growing \\nbusiness� Zoho CRM’s editions and \\na wide range of features can easily \\nbe put to use for your ever-growing \\nbusiness�\\nDifficulties in migrating data An easy migration setup The migration setup is built to allow \\nbulk import of files and it also lets you \\nretain data relationships with notes, at -\\ntachments, etc� You can prevent dupli -\\ncates from entering the new database \\nand also take steps to remove existing \\nduplicates post migration�\\n\\n2\\nImplementing Zoho CRM for an SMEChallenge Solution What does Zoho CRM provide?\\nLack of metrics to gauge\\nsuccess and various other \\nelementsBuilt-in analytics dashboard \\nand reports to measure \\nbusiness growthZoho CRM can help you set definite \\ngoals and run reports to measure \\nyour success and failures and make \\ndata-driven decisions.\\nPoor user adoption Resource materials, training \\ndocuments, ebooks, and \\nother resourcesTraining programs to learn directly \\nfrom specialists on how to leverage \\nZoho CRM to the fullest extent,\\nexhaustive documentation, and\\nsupport from Zoho teams will help \\nyour team adopt the new CRM system� \\nIncorrect implementation Documenting your business \\nprocess, mapping it with the \\nCRM system an\\nimplementating each step�This implementation guide will help \\nyou plan, draft and successfully\\nexecute the implementation process�\\n\\n3\\nImplementing Zoho CRM for an SMEImplementation strategy\\nSetting up CRM for your company is only finished when the full cycle of planning, implementing, and \\nrolling-out to employees is completed. While companies invest in procuring top-notch CRM systems, \\nthey spend less time and resources on implementation� As a result, many companies fail in adopting \\nCRM even though they overcome the initial hurdle of implementing it for their business� We suggest the \\nfollowing best practices which you can follow to achieve a successful implementation: \\nPlanning\\nDefine your business goals \\nand strategies and plan your \\nimplementation activities \\naround them. \\nAnalyzing\\nConfirm your requirements, \\nanalyze them, and\\nunderstand their scope in \\nthe CRM environment.Designing\\nReview your business\\nprocess and compare it with \\nthe CRM system to align it \\nwith your business. Analyze \\nthe integrations that are \\nneeded and prep your data \\nfor the migration.\\nValidating\\nAssess the implementation \\nin a test environment by\\ngiving your sales team\\naccess to the CRM account. \\nDeploying\\nDeploy the CRM. Continue \\nto train your team members \\nwith documentations,\\ntraining materials and other \\nrelevant resources.\\nDocument their pain points \\nand identify the areas of \\nimprovement.\\n\\n4\\nImplementing Zoho CRM for an SMEImplementation plan\\nPlanning is the stepping stone in the implementation process� It is the most crucial and preparatory step \\nthat will lay the foundation for a successful implementation� For a proper planning you need to: \\nDefine your business goals\\nDocument, analyze, and map your business processes\\nIdentify the key players who will help you understand every aspect of your business \\nDefine business goals\\nHave a clear outline of what you want to achieve by implementing CRM� Following questions can help \\nyou get an answer � \\nWhat am I trying to achieve using Zoho CRM? \\nWhat are my key business priorities?\\nWhat are my business plans and how do I plan to achieve them?\\nListing your business objectives will help you determine what you want to measure in your CRM system� \\nSample business goals:\\nBusiness goal How do you plan to achieve it? What to look for in CRM\\nIncrease customer\\nsatisfactionBetter customer engagement - Segment customers based on their \\ninterests, preferences, and buying \\npatterns and plan targeted marketing \\nstrategies�\\n- Engage customers through regular \\nautomated follow-ups and with a \\nsocial media presence�\\nBoost sales and process \\nefficiencyIdentify and eliminate gaps in the \\nsales processStreamline your business process in \\nCRM and automate the essential\\nprocesses to increase productivity �\\n\\n5\\nImplementing Zoho CRM for an SMEBusiness goal How do you plan to achieve it? What to look for in CRM\\nReduce operational cost and \\ntime Automate manual and repeated \\nprocesses or actionsUse workflows and macros to\\nautomate repetitive actions�\\nIncrease cross selling and \\nenhance client retention Centralize all customer related \\ndata to give holistic picture of \\ncustomer’s sales cycle to all the \\nteamsHave a customer’s data, social\\nmedia interactions, email\\ncommunications, and support\\nrequests, all in one place�\\nActivity sheet - Enter your business goals� (Refer Appendix I to download the complete \\nactivity sheet)\\nBusiness goals How do you plan to achieve them? What to look for in CRM'),\n",
              " Document(page_content='25\\nImplementing Zoho CRM for an SMECreate Profiles\\nThere are two default profiles available in CRM: \\nAdministrative profile has access to every feature and module in the CRM account�\\nStandard profile has some basic permissions like viewing, creating, editing, and deleting records \\nin modules�\\nSample list of users, their roles, and profiles\\nUser Role Profile What they will do in CRM CRM features needed\\nCharles \\nStoneProduct \\nHead/\\nFounderSuper Admin - Complete access to CRM \\nwith admin privileges\\n- Add, invite, and delete \\nCRM users\\n- Customize the platform for \\nthe business vertical\\n- Set profile permission for \\nother users- Default access to all the \\nfeaturesThe default profiles are master templates and cannot be edited. You can clone these profiles to create \\nnew ones and customize them based on your requirements. Create profiles from\\nSetup > Security Control > Profiles.  See Also, Managing  Profiles\\n\\n26\\nImplementing Zoho CRM for an SMEUser Role Profile What they will do in CRM CRM features needed\\nNathan \\nBrooksSales\\nManagerSales\\nAdministrator- Analyze sales metrics and \\nkeep tabs on the number \\nof deals that are closed \\nmonthly\\n- Generate sales and\\nforecast reports\\n- Export data from CRM\\n- View sales orders,\\ngenerate POs, invoices,\\nand quotes\\n- Assign leads to sales\\nexecutives\\n- Transfer record ownership \\nand manage other\\nrecord-level permissions\\n- Handle customer\\nescalations- Permission to view and \\nmanage access to\\ndashboards\\n- Permission to view,\\nmanage, and schedule\\npermissions for reports\\n- Permission to export \\ndata\\n- Full access to sales\\norders and deals modules\\n- Permission to create\\nassignment rules\\n\\n27\\nImplementing Zoho CRM for an SMEUser Role Profile What they will do in CRM CRM features needed\\nMark \\nDavisProduct \\nLeadAdministrator - Customize CRM platform \\nfor the business\\n- Create workflows and\\napproval processes\\n- Manage users\\n- Enable data sharing with \\nother roles or peers\\n- Import data into CRM\\n- Manage lead generation \\nthrough webforms and\\napprove discounts or\\nnegotiations on higher\\nvalue deals\\n- Assess the need for\\nintegrating with third-party\\napplications and other\\nZoho products and manage \\nplug-insPermissions to all the \\nfeatures and modules\\n\\n28\\nImplementing Zoho CRM for an SMEUser Role Profile What they will do in CRM CRM features needed\\nJasmine \\nFrankSales\\nExecutiveStandard + \\nAdministrator- Set up email and chat \\nsettings for the team and \\nmanage templates\\n- Add leads, contacts,\\naccounts, and deals and \\nmake edits\\n- Manage organization’s \\nsocial media handles\\n- Manage documents\\nin CRM\\n- Full access to the records \\nthey own- Permission to set up \\nemail integration and send \\nemails\\n- Permission to view,\\ncreate, and edit records in \\nthe modules, but no\\npermission to delete the \\nrecords\\n- Social tab permission\\n- Manage folder permis -\\nsions\\nActivity sheet - Identify the users and their roles, and profiles (Refer Appendix VII to \\ndownload the complete activity sheet)\\nUser Role Actions they will perform CRM features needed Profile\\nUser 1 Their role List the tasks they will \\nperformWork out which profile \\npermissions they will \\nneedWhich profile will \\nyou clone and \\nadapt?\\nUser 2\\nUser 3\\nUser 4\\n\\n29\\nImplementing Zoho CRM for an SMEAdd users and invite them to CRM\\nOnce you have created the required roles and profiles you can start adding users  in CRM from\\nSetup > Users and Control > Users > Add New User � While adding users, you will have to specify few \\nbasic details like first name, last name, contact number, and email address along with their role and\\nprofile. Once the users are added a system generated automatic email is sent with the access link to \\ntheir accounts. Users who have not accepted the invitation will be listed as unconfirmed users and you \\ncan re-invite them.\\nEnable data security\\nZoho takes every care to keep your data secure on our servers. You can also configure some additional \\nsecurity settings to increase your level of protection� \\nIP restrictions:  (Setup > Users and Control > Security Control > Allowed IPs)\\nYou can restrict users from accessing the organization’s CRM account from specific IP\\naddresses. For example, if you want your team to only be able to access CRM from the office and \\nnot from their personal devices, then you can add your office IP as allowed IP address. This will\\nprevent the users from accessing CRM from different IP addresses� \\nTwo-factor authentication: (accounts�zoho�com > Two Factor Authentication)\\nTFA adds another layer of security to your Zoho accounts. Once you enable two-factor\\nauthentication, in addition to your regular account password, you will be prompted to enter a\\none-time password every time you attempt to log in to your CRM account. This OTP can be\\nreceived as an SMS to your registered mobile phone or via Zoho’s OneAuth application� \\nEstablish data visibility and accessibility rules\\nSetting up role hierarchy and profile permissions will let you determine the default permissions for each \\nCRM user � But a user may sometimes need to view or access data that falls outside of their\\npermissions� You can extend visibility by setting the data sharing rules �\\nModule-level exceptions:  By default, the data access rights for all the modules are set to private, so that \\nonly the record owner and their manager can see the data� However, you can edit the default\\norganization  permission for individual modules or create a new sharing rule�Here are the main two settings that you can set up in your CRM account:\\n\\n30\\nImplementing Zoho CRM for an SME\\nData Sharing Settings\\nDefault Organization PermissionsThis page allows you to manage default organization permissions and sharing rules. Default organization permissions govern how your records are shared across the organization. T o further\\ncustomize your settings, you can add sharing rules, which allow you to set up pernissions between two roles, roles and subordinates, and groups.\\nMODULE\\nLeads\\nAccounts\\nContacts\\nDeals\\nCampaigns\\nActivitiesDEFAULT ACCESS\\nPrivate\\nPrivate\\nPrivate\\nPrivate\\nPrivate\\nPrivateEdit All Default PermissionsHelp\\nEdit Default Organization Permissions\\nPrivate\\nPrivate\\nPrivatePublic Read Only\\nPublic Read Only\\nPublic Read OnlyPublic Read/Write/Delete\\nPublic Read/Write/Delete\\nPublic Read/Write/DeleteLeads:\\nAccounts:\\nContacts:\\nNew Sharing Rule\\nThis page allows you to create sharing rules for the selected module.\\nRecords Shared From Roles Sales Manager\\nRecords Shared T o Roles Sales Representative\\nAccess Type Read/Write/Delete\\nSuperiors Allowed\\nCancel Create Sharing Rule\\nRecord-level exceptions:  If you want to share records with others, you can use the Share option  in the \\nrecord’s detail page and provide full, read and write, or read only access to another user � An individual \\ncan share their records provided they have the share permission enabled in their profile.\\nField-level exceptions:  Some fields like Deal Amount, Salary, and Account Number contain confidential \\ninformation and should not be visible to all the users in the organization. You can restrict a profile from \\nviewing or editing a particular field by setting field permissions.\\nCentralize all customer information and email communications with prospects and customers within \\nZoho CRM� Email integration also gives you the option to share business emails with colleagues� Once \\nthe integration is in place, the outgoing and incoming emails will be available with the record�\\nThe following email integration options are available: Set up email integration and lead generation processes\\nEmail integration\\nName Description\\nZoho Mail add-on Configure your email account using POP3  or IMAP or use\\npopular email clients like Zoho Mail, Gmail, Yahoo Mail,\\nMicrosoft Outlook, or Office 365. \\nZoho CRM plug-in for MS Outlook Integrate your Microsoft outlook account with CRM to sync \\nemails, contacts, tasks, and appointments�\\n\\n31\\nImplementing Zoho CRM for an SMEName Description\\nOrganization email address If you want to use a universal mailing address across the\\norganization for all customer interactions, you can set profile \\nrestrictions to limit usage to selected users only so that ,for \\nexample, only the regional sales managers and VP of sales can \\nsend emails from the org’s email address�\\nBCC dropbox You can skip integrating your email services with Zoho CRM and \\ncontinue to send emails from personal email addresses� If you \\nwant to store a copy of your emails in CRM, you can generate a \\nBCC dropbox email address and copy it every time you send an \\nemail to the customer from a personal email address� A copy of \\nthe sent email will be stored in the record’s related list\\nChrome extension for Gmail You can install the Chrome extension for Gmail to access your \\nCRM account from Gmail� This will allow you to add leads,\\ncontacts, and notes to the records in CRM from your Gmail \\naccount�\\nSalesInbox The SalesInbox is well organized and helps reps categorize \\nemails based on the recipient, i�e� lead, contact, not in CRM, \\ncolleague, manager, etc�\\nPreviously, you listed the various methods used by your organization to generate and engage leads� You \\ncan refer to the same list and set up the following features in the CRM account:Lead generation and engagement methods\\nLead generation methods Lead engagement methods\\nWebforms Scoring rules\\nGoogle integration Telephony\\nAPI\\nTwitter and Facebook integration'),\n",
              " Document(page_content='5\\nImplementing Zoho CRM for an SMEBusiness goal How do you plan to achieve it? What to look for in CRM\\nReduce operational cost and \\ntime Automate manual and repeated \\nprocesses or actionsUse workflows and macros to\\nautomate repetitive actions�\\nIncrease cross selling and \\nenhance client retention Centralize all customer related \\ndata to give holistic picture of \\ncustomer’s sales cycle to all the \\nteamsHave a customer’s data, social\\nmedia interactions, email\\ncommunications, and support\\nrequests, all in one place�\\nActivity sheet - Enter your business goals� (Refer Appendix I to download the complete \\nactivity sheet)\\nBusiness goals How do you plan to achieve them? What to look for in CRM\\n\\n6\\nImplementing Zoho CRM for an SMEDocument, analyze, and map your business processes\\nMake a list of the processes that are followed in your organization, analyze them, evaluate their\\nefficiency and make any required modifications before moving them into CRM. \\nDocument your sales and marketing processes\\nChart out all the elements in your process and make sure your team has a clear understanding of the \\nprocesses that will be implemented in CRM. Creating a flow diagram will give a clearer picture and will \\nalso serve as a reference material during the actual implementation� \\nA sample flow diagram of a lead follow-up process:\\nJohn Doe\\n[ Lead ]\\nSend ﬁrst /\\nwelcome Email \\nJohn Doe\\n[ Lead ]\\nSend\\nsecond Email\\nNo response\\nJohn Doe\\n[ Lead ]\\nEnd\\nSend third Email\\nand phone call\\nNo response\\nJohn Doe\\n[ Lead ]\\nEnd\\nSend other\\ninfo Email\\nResponse\\nreceived \\nCharlie Stone\\n[ Sales Rep ]You can create a flow diagram of:\\n-  How you gather and qualify your leads?\\n-   H o w  t h e  l e a d s  n a v i g a t e  t h r o u g h  y o u r                                                 \\n   sales pipeline to become customers? \\n-  The follow-up routine for prospects.\\n-  The process for running marketing\\n   campaigns�\\n-  The process of receiving payment after       \\n   deal closure�\\nMake a list of methods that are used at different stages of the sales funnel, that is from lead capture to \\ndeal closure�\\n\\n7\\nImplementing Zoho CRM for an SMESample sales process \\nSales stage Description Methods involved\\nLead generation The first step of the sales process. \\nIt involves capturing leads or\\nprospects from various sources� Trade shows, webinars and \\nconferences, webforms, API calls, \\nGoogle Ads, social media\\nLead distribution, nurturing, \\nand, engagementAssigning leads to reach out to \\nthem sooner � Making initial contact \\nwith the leads and identifying\\ninterested customers�Engagement over phone, emails, \\nor social media\\nLead qualification and\\nconversionConverting the leads that want to \\ndo business with you into contacts \\nor genuine customers�Manual conversion or using the \\nlead conversion tool\\nProposal and price quote Deciding the amount and sharing \\nthe quote with the customers�Follow-ups through phone, emails, \\nor in person\\nNegotiation Adjusting the deal amounts to\\ncustomer’s expectation� Follow-ups through different \\ntouchpoints� \\nClosed won/lost The deal or proposal is either\\naccepted or rejected�Field update, communicate \\nthrough email or phone� Inform \\nthe team and managersSample sales stages:Tip: Sales processes may vary from business to business (for example, B2B, B2C, B2B2B, or \\nB2B2C), but the basic stages involved in qualifying a lead to closing a deal will not differ much\\n(for example, qualification, presentation, negotiation, etc.) . In Zoho CRM, you can easily manage \\nthe stages as per your sales process�\\n\\n8\\nImplementing Zoho CRM for an SMEActivity sheet - Document your sales process (Refer Appendix II to download the\\ncomplete activity sheet)\\nSales stage Description Methods involved\\nAnalyze your business processes\\nOnce you have the process documented, analyzing each stage and the steps involved gives you an \\nopportunity to find a more efficient approach to carry it out. Examine the above stages to identify and fix \\nthe gaps before implementing the processes in CRM� The best approach is to get inputs from the users \\nwho regularly follow the steps:\\nWhich steps usually cause delays in process execution? \\nWhich steps create bottlenecks?\\nWhich steps cause issues for the sales reps and other team members?\\n\\n9\\nImplementing Zoho CRM for an SMESample steps to analyze: \\nProcess step Analyze\\nEnquiries Are all inquiries correctly allocated and managed?\\nWelcoming leads Are all the new leads from a particular country getting a customized welcome \\nemail and is the lead status being tracked?\\nFirst reminders Do sales reps send these reminder emails on time for each customer?\\nNegotiation Are the discounts and benefits approved by the managers and are the entire team \\nfollowing the guideline?\\nNotify Are the sales reps getting proper reminders for follow-up activities and are the \\nsales managers notified about deal closure? \\nScheduled actions Are there any tasks, follow-ups or activities that your team does at regular\\nintervals?\\nActivity sheet - Enter the steps to analyze� (Refer Appendix III to download the\\ncomplete activity sheet) \\nProcess step Analyze\\n\\n10\\nImplementing Zoho CRM for an SMEMap your sales and marketing processes\\nOnce you have completed analyzing the processes, it is time to map them to the appropriate CRM\\nfeatures. Creating a flow diagram will give you a visual representation of the process (like the lead\\nfollow-up above) It can help you analyze:\\nThe extent of customization that you need to perform before getting your data into CRM�\\nThe processes or steps that you will have to automate�\\nAny third-party applications that you need to integrate with CRM.\\nTip: This step will also help you to decide which CRM edition you need to purchase based on the \\nfeatures that are supported in it�\\nSample processes and its mapping with CRM features\\nSales stage Methods involved Mapped to CRM feature\\nLead generation Trade shows, webinars and\\nconferences, webforms, API calls, \\nGoogle Ads, social mediaWebforms , Google integration , APIs,\\nsocial integration  (Twitter and\\nFacebook)\\nLead distribution,\\nnurturing, and\\nengagementEngagement over phone, emails, or \\nsocial media� Identifying the best \\ntime to contact� Lead assignment rules , telephony , \\nemail integration , social setup ,\\nactivities,  Best time to contact\\nLead qualification and \\nconversionManual conversion or using the \\nlead conversion tool� Predicting the \\nlikelihood of conversion� Built-in lead conversion tool\\nautomatic conversion using\\nworkflows,  Scoring rule,  and\\nZia prediction builder\\nProposal and price quote Follow-ups through phone, emails, \\nor in personWorkflows,  Approval process,\\nautomation tools\\nNegotiation Follow-ups through different\\ntouchpoints� Workflows  and SalesInbox for\\nfollow-ups\\n\\n11\\nImplementing Zoho CRM for an SMESales stage Methods involved Mapped to CRM feature\\nClosed won/lost Field update, communicate through \\nemail or phone� Inform the team \\nand managersWorkflows  and team collaboration \\ntools like Feeds,  Cliq notifications  \\nActivity sheet - Map your sales process (Refer Appendix IV to download the complete \\nactivity sheet) \\nSales stages Methods involved Mapped to CRM feature\\n\\n12\\nImplementing Zoho CRM for an SMEAnother thing that you should do alongside feature mapping is identifying your business language and \\ncheck its semblance with Zoho CRM’s default terminology � For example:\\nIf you are an e-commerce company, your business will use terms like wholesale products,\\nshopping carts, discount codes, sign ups, refunds, and invoices�\\nIf you are a real estate firm,  your business will use terms like property listings, brokers, warranty, \\nholding deposit, built-up area.\\nMapping CRM terminologies with that of your business will help you customize your CRM account and \\nkeep it ready to migrate your data� Here is a sample comparison list from the real estate industry:\\nZoho CRM terminology Business terminology\\nLeads Enquiries\\nContacts Customers\\nAccounts Companies\\nProducts Properties\\nVendors Brokers\\nActivity sheet - Map CRM terminologies with business terms (Refer Appendix V to \\ndownload the complete activity sheet) \\nCRM terminology Business terminology'),\n",
              " Document(page_content='18\\nImplementing Zoho CRM for an SMECreate layouts:  If your company manages a range of products, services, or applications and wants\\ninformation about all of them in CRM, it is usually best to maintain them separately to avoid a cluttered \\ndatabase� You can create layouts for individual products or services in a single module� Layouts are\\nspecific to a module, so you can create them for the module that contains the information. \\nNote:  You can configure different automation processes for different layouts. While converting \\nleads, the lead’s details can be transferred to a specific layout in the Contacts, Accounts, and \\nDeals modules� For example, a university can use layouts to keep the details of their undergraduate program and \\nthe graduate program separately in the same module called “Programs”. The type of information \\ncollected from the applicants and the admission process is different for the two programs and, \\nwith page layouts, it is easy to customize the forms and set workflows to automate actions for \\neach program�\\nShared With Me:  Custom views shared with you�\\nPublic Views: Views that are accessible to everyone in your CRM account�\\nOther Users’ Views:  Custom views created by fellow users� Create custom views and filter records:  The records are arranged in a sequential order within a module, \\ncalled the List View. The system-defined  standard list view  groups the records under these categories: \\nFavorites: Any list view that you mark as favorite�\\nCreated By Me:  Custom views created by you (the user)�\\nYou cannot modify these default categories, but you can create custom list views � For example, you can \\ncreate an exclusive view for leads from a particular region or high profile contacts or deals of a certain \\namount�\\nSimilarly, you can create a Kanban view  to categorize your data into an organized card-based display. \\nThe benefit of this view lies in allowing the users to drag and drop the records from one category to \\nanother instead of editing them individually � For example, whenever a lead’s status is changed from \\n“attempted to contact” to “contact in future” you can simply drag and drop the lead to the appropriate \\ncategory instead of changing the status from the lead’s detail page�\\n\\n19\\nImplementing Zoho CRM for an SME\\nAll Layouts Layouts None Sort By Leads Details FILTER LEADS BY\\nCommunications\\n500,000.00\\nEmail Opt Out\\nINR\\nRudolph Scott\\n30,500,000.00   - 2 Deals\\nATTEMPTED TO CONTACT\\nCommunications\\n500,000,00\\nEmail Opt Out\\nINR\\nMark Snap\\n1,000,000.00\\nCONTACT IN FUTURE\\nManufacturing\\n30,000,000.00\\nEmail Opt Out\\nINR\\nCarrissa Meyer AddActivities\\nEmail Status\\nNotes\\nCampaigns\\nLast Name\\nCurrency\\nEmail Opt Out\\nIndustry\\nAnnual Revenue\\nCheckbox1\\nCityAll Leads\\nAnother view, called the Canvas view , will let you enhance the visual appeal of the record detail page by \\nintroducing background colors to the text, using fonts of your choice, highlighting texts, replacing regular \\nfield names with buttons, and more.\\nConsiderations Actions Resources\\nIs your business terminology \\ndifferent than Zoho CRM’s?Rename Leads module Rename tabs\\nAre the standard fields in the \\nLeads module enough to capture \\nyour business data?- Make a list of fields that you need which \\nare not covered by the standard fields  and \\nadd the custom fields to the layout.\\n- Edit the fields and values.Add custom fields\\nEdit fields\\nIs your database cluttered with \\ndifferent kinds of records? Create layouts Layouts\\nIs your record detail page\\noverwhelming the end-users with \\ninformation? Does it have too \\nmany sections and fields that are \\nneeded based on the customer’s \\nchoice?Set layout rules Conditional layoutsLeadsSetup the basic modules\\n\\n20\\nImplementing Zoho CRM for an SMEConsiderations Actions Resources\\nDo erroneous field entries cause \\nproblems for you?Set validation rule for the fields Validation rule\\nDo you want to hide fields that \\ncontain confidential information \\nfrom reps?Set access limits Field permission\\nDo you want to streamline the \\nway leads enter your CRM\\nsystem?- Manual entry\\n- Reps collect leads information, store in \\nspreadsheets, and add them to CRM in bulk\\n- You are moving to Zoho CRM from other \\nCRM system\\n- Capture leads form your websiteSet up data import\\nMigrate data\\nSet up webforms\\nDo lead attributes play a role \\nin deciding who leads will be \\nassigned to? Set up lead assignment rules Assignment rules\\nDo you want to categorize leads \\nto a certain group based on a \\nfield value?- Create custom list view with the desired \\ncriteria \\n- Create a Kanban viewCustomize list view\\nKanban view\\nDo you want to convert leads to \\ncontacts in bulk?Set automatic lead conversion Lead conversion \\nmapping\\n\\n21\\nImplementing Zoho CRM for an SMEConsiderations Actions Need help?\\nDo you need to adjust the\\nstandard module to fit your\\nbusiness needs?- Rename the modules\\n- Add custom fields\\n- Edit the fields and values\\n- Add subforms to capture additional \\ndetails about the record\\n- Declutter the layout using\\nconditional layoutsStandard fields in the\\nAccounts , Contacts ,\\nmodules�\\nDo you want to track subsidiaries \\nor franchises of a single account \\nor contact?Set up parent-child relationships \\nbetween the recordsMap dependency fieldsAccounts and Contacts\\nConsiderations Actions Need help?\\nDo you want to customize the \\nDeals module to your business \\nneeds?- Add custom fields\\n- Edit the fields and valuesStandard fields in the \\nDeals  module\\nDo you want sales agents to be \\nable to locate information about \\nother records from the Accounts \\nand Contacts modules?Add lookup fields Lookup fields\\nDoes your business need you to \\ndiscuss details of the deal with \\nmore than one contact in the \\norganization?- Configure contact roles field and \\nadd the people with their\\ndesignations\\n- Exchange information based on \\nreporting hierarchyContact rolesDeals\\n\\n22\\nImplementing Zoho CRM for an SMEConsiderations Actions Need help?\\nDoes the deal stage vary from \\nthe default stages in the Deals \\nmodule? Replace or add deal stages\\naccording to your business\\nrequirementModify deal stages\\nDo you want to quantify the\\nlikelihood of winning a deal? Add a stage-probability field and\\nenter probability values for each \\nstageStage probability\\nmapping\\nIdentify users who will access CRM and set their roles and \\nprofiles\\nLet’s look at an example of Zylker, Inc� and its organization’s hierarchy �\\nSample diagram\\n[ Sales Intern ][ Sales Executive ]Nathan Brooks\\n[ Sales Manager ]\\n[ Marketing Intern ][ Marketing Executive ]Daniel Klein\\n[ Marketing Head ]\\n[ Trainee ][ Developer ]Mark Davis\\n[ Product Lead ]\\n[ Support Executive ][ Training Executive ]Patricia Boyle\\n[ Customer Success Coach ]Charlie Stone\\n[ Product Head/ Founder ]\\nPrepare a similar flow chart of your organization’s hierarchy. It will help you plan the following:\\nThe users who need access to your company’s CRM account:  You may not need to provide CRM \\naccess to all your users� Not only does giving every employee access compromises the\\nsecurity of your data, it also requires you to purchase more user licenses� You can choose to\\nprovide access to only those employees who will use CRM regularly, which will usually be the \\nsales and marketing teams�\\n\\n23\\nImplementing Zoho CRM for an SMERoles that should be created in CRM: Roles provide access to the data in your CRM account�\\nA user’s role tells you what data they can see� One role is assigned to each user � For example, \\nSarah Green, a sales rep, should not have access to the records that the sales manager owns� \\nProfiles that should be created in CRM: Profiles provide access to the features in your CRM\\naccount. A user’s profile tells you what they can do in their account. One profile is assigned to \\neach user � For example, interns need not have permission to import or delete records�\\nIdentify Users\\nMake a list of all the users who need access to your CRM account� If you are the only user in your\\norganization’s CRM account then you will be the super admin� A super admin in Zoho CRM is a user with \\nan administrator profile who can additionally delete users from the CRM account and receives all\\ncommunications regarding billing and other financial transactions from Zoho. \\nSample list of users who will access Zylker’s CRM account\\nUsers Job titles\\nCharlie Stone Product Head/Founder\\nNathan Brooks Sales Manager\\nJasmine Frank Sales Executive\\nDaniel Klein Marketing Head\\nAnn Candace Marketing Executive\\nMark Davis Product Lead\\nPatricia Boyle Customer Success Coach\\n\\n24\\nImplementing Zoho CRM for an SMECreate Roles\\nBelow is a role hierarchy that replicates Zylker, Inc� ’s organizational hierarchy � According to this, the\\ninterns will not have access to a sales executive’s data, similarly, the executives cannot access a\\nmanager’s or product lead’s data� You can create roles from Setup > Security Control > Roles� See Also,\\n Managing Roles\\nRoles\\nZylker Inc\\nProduct Head/Founder\\nMarketing Head\\nSales Manager\\nMarketing Executive\\nMarketing Intern\\nProduct Lead\\nSales Executive\\nSales Intern\\nTraining Executive\\nSupport Executive\\nCustomer Success Coach\\nDeveloper\\nTrainee\\n\\n25\\nImplementing Zoho CRM for an SMECreate Profiles\\nThere are two default profiles available in CRM: \\nAdministrative profile has access to every feature and module in the CRM account�\\nStandard profile has some basic permissions like viewing, creating, editing, and deleting records \\nin modules�\\nSample list of users, their roles, and profiles\\nUser Role Profile What they will do in CRM CRM features needed\\nCharles \\nStoneProduct \\nHead/\\nFounderSuper Admin - Complete access to CRM \\nwith admin privileges\\n- Add, invite, and delete \\nCRM users\\n- Customize the platform for \\nthe business vertical\\n- Set profile permission for \\nother users- Default access to all the \\nfeaturesThe default profiles are master templates and cannot be edited. You can clone these profiles to create \\nnew ones and customize them based on your requirements. Create profiles from\\nSetup > Security Control > Profiles.  See Also, Managing  Profiles'),\n",
              " Document(page_content='32\\nImplementing Zoho CRM for an SMEActivities that are likely to happen repeatedly in your business process can be automated to occur at a \\nparticular date and time or when certain conditions are satisfied. For example: \\nSending reminder emails to subscribers before their subscription end date\\nNotifying the regional sales managers whenever a deal worth $25,000 or more is createdMaking follow-up calls to your vendors every month\\nAssigning leads from cold calls to a specific rep\\nThis will help you reduce manual intervention and increase process efficiency. Here is a list of\\nautomation tools that you must configure before you get your customer data into CRM:Establish basic automation processes\\nAutomation tool Function\\nWorkflow rule Automate a set of actions like email notifications, field updates, record \\ncreation, tasks, and actions defined through functions, and webhooks by \\ncreating workflow rules.\\nAssignment rule Set a rule to assign leads with similar attributes to a particular rep�\\nCase escalation rule Help sales managers or their superiors stay on top of their projects by \\nnotifying them when a deadline is missed� \\nBring data into Zoho CRM\\nYou can now start importing data from external sources into your Zoho CRM account� Some of the\\nmethods that you can use to get data are:\\nData import: If your data is stored in different repositories, you must export it and in the\\nfile format that is supported in Zoho CRM before you can begin the import process� You can\\nimport data and notes to individual modules provided your data is accurate, doesn’t have\\nduplicate entries, and the field names are identifiable for field mapping. \\nMigrate data from other CRMs: If you are migrating from a different CRM, you can use the data \\nmigration wizard� We support migration from these CRM applications: Salesforce, MS Dynamics \\n365, Pipedrive, HubSpot, Insightly, and Highrise� You can see the progress of import from the \\nhistory and audit log �\\n\\n33\\nImplementing Zoho CRM for an SMESome points you must remember while importing data into CRM:\\nCreate assignment rules  to assign records to the appropriate owner before importing the\\nrecords� The assignment rule must be selected not just for import, but also for creating\\nwebforms, and pushing data via APIs�\\nRemember to select a unique field  during import. A unique field is unique for every record\\n(for example, email address, employee ID, or social security number)� If you select employee ID \\nas the unique field during import, CRM will look for other existing fields with the same value in \\nyour import sheet to identify duplicates� You can choose to skip duplicates, or clone or update \\nexisting records based on this unique field. \\nPushing data from APIs: In addition to from webforms, data import, and migration, Zoho provides REST \\nAPI support, which lets you integrate your CRM with any third-party application. For example, your field \\nagents use an application developed by your organization to collect clients’ data� You can integrate that \\napp with CRM to sync data between the systems and keep it up to date� In other words, whenever data is \\nadded to the app, it will be automatically added to CRM�\\nZoho CRM APIs follow REST standards with the OAuth2�0 method of authentication, and uses simple \\nHTTP methods like GET, POST, PUT, and DELETE, which makes it easier to develop new applications or \\nintegrate existing ones with CRM. APIs like “Insert Records” and “Upload Attachments” can be used to \\nadd record information or fis like text, image, video, etc.\\n\\n34\\nImplementing Zoho CRM for an SMEDetermine the business metrics you want to see\\nThe last step in your implementation process is to set up the system to reflect all the metrics that are \\ndefined in your business goals.\\nSample metrics to measure using reports and dashboards: \\nMetrics Report and dashboard type Resource\\n- Salesperson’s performance report.\\n- Number of leads converted\\n- Number of leads generated through\\ncampaigns\\n- View this month sales report\\n- Review a list of completed activities\\n- Number of unresolved casesSystem defined reports for \\nleads, activities, cases, and \\ndeals module� \\n(reports are available for all\\nmodules)Standard reports\\n- Number of deals owned by\\n“Jasmine Frank” in “Closed Won” stage \\nthat have a revenue greater than\\n$10,000 USD\\n- Status of cases from “Netherlands” that \\nreported “system failure”- Add these criteria to the\\nstandard report for deals \\nclosed this month\\n- Define region and type as\\ncriteria in the case status \\nreport�Customize the\\nstandard reports by \\ndefining criteria\\n- Product that was sold the most this \\nmonth\\n- Industry that purchased “X” applicationCreate custom reports with the \\nmetric of your choiceCustom reports\\n- Annual sales trend\\n- Monthly expenditure\\n- Quarterly enrollmentsGenerate reports on specific \\ndates automaticallySchedule reports\\n\\n35\\nImplementing Zoho CRM for an SMEMetrics Report and dashboard type Resource\\nMonthly and yearly sales targets achieved \\nby individualsTarget meter\\nAnalytical componentsIdentify sales trends and pinpoint unusual \\nbehaviorAnomaly detector\\nAnalyze team’s performance and draw \\ncomparison between data setsKey performance indicator and \\ncomparators\\nRepresent business metrics and\\ndistribution of data by stage graphicallyCharts and funnels\\nMetrics Report and dashboard type\\nThe metrics you want to measure The report or dashboard typeActivity sheet - List the metrics that you want to measure (Refer Appendix VIII and \\ndownload the complete activity sheet)\\n\\n36\\nImplementing Zoho CRM for an SMECongratulations!\\nYou have successfully implemented Zoho CRM for your business�\\nVisit our resources, help guides , ebooks, videos, and tutorials and join \\nthe community  to meet your fellow CRM users and continue this journey � \\nYou can also enroll for our training programs to learn more about Zoho \\nCRM in person from our product specialists�\\n\\n37\\nImplementing Zoho CRM for an SMEBusiness GoalsHow do you plan to achieve \\nthem?What to look for in CRMAppendix I� Enter your business goals�\\n\\n38\\nImplementing Zoho CRM for an SMEBusiness GoalsHow do you plan to achieve \\nthem?What to look for in CRM\\n\\n39\\nImplementing Zoho CRM for an SMESales stages Description Methods involvedAppendix II� Document your sales process\\n\\n40\\nImplementing Zoho CRM for an SMEProcess Step Analyze Appendix III� Enter the steps to analyze\\n\\n41\\nImplementing Zoho CRM for an SMESales stage Methods involved Mapped to CRM featureAppendix IV � Map your sales process\\n\\n42\\nImplementing Zoho CRM for an SMESales stage Methods involved Mapped to CRM feature\\n\\n43\\nImplementing Zoho CRM for an SMECRM terminology Business terminology  Appendix V � Map CRM terminologies with business terms\\n\\n44\\nImplementing Zoho CRM for an SMEPeople RoleAppendix VI� Identify the key players in your organization\\n\\n45\\nImplementing Zoho CRM for an SMEUsers RoleActions they will\\nperformCRM features \\nneededProfileAppendix VII. Identify the users and their roles and assign them profiles\\n\\n46\\nImplementing Zoho CRM for an SMEUsers RoleActions they will\\nperformCRM features \\nneededProfile\\n\\n47\\nImplementing Zoho CRM for an SMEMetrics Report and dashboard typeAppendix VIII� List the metrics that you want to measure\\n\\nwww �zoho�com/crmContact Us\\nUSA\\nZoho Corporation\\n4141 Hacienda Drive, Pleasanton,\\nCalifornia 94588, USA\\nPhone : +1 877 834 4428   |   +1 844 584 2497• California\\nZoho Corporation\\n3910 S, IH 35, Suite 100, Austin,\\nTexas 78704, USA• AustinINDIA\\nZoho Corporation Pvt� Ltd�,\\nEstancia IT Park, Plot No� 140 & 151, GST Road,\\nVallancherry Village, Chengalpattu Taluk,\\nKanchipuram Distric 603 202, INDIA\\nPhone : 1800 103 1123   |   1800 572 3535• Chennai\\nZoho Corporation Pvt� Ltd�,\\nSilaraipuravu Village, Mathalamparai,\\nTenkasi, Tirunelveli District 627 814, INDIA• Tenkasi\\nZoho CRM Resources\\nwww �zoho�com/crm/resources')]"
            ]
          },
          "metadata": {},
          "execution_count": 26
        }
      ]
    },
    {
      "cell_type": "code",
      "source": [
        "template = \"\"\"Use the following pieces of context to answer the question at the end. If you don't know the answer, just say that you don't know, don't try to make up an answer. Keep the answer as concise as possible.\n",
        "{context}\n",
        "Question: {question}\n",
        "Helpful Answer:\"\"\"\n",
        "QA_CHAIN_PROMPT = PromptTemplate.from_template(template)\n",
        "qa_chain = RetrievalQA.from_chain_type(\n",
        "    model,\n",
        "    retriever=vector_index,\n",
        "    return_source_documents=True,\n",
        "    chain_type_kwargs={\"prompt\": QA_CHAIN_PROMPT}\n",
        ")"
      ],
      "metadata": {
        "id": "AEE8HsRaReQ-"
      },
      "execution_count": null,
      "outputs": []
    },
    {
      "cell_type": "code",
      "source": [
        "question = \"Tell me implementation strategy\"\n",
        "result = qa_chain({\"query\": question})\n",
        "result[\"result\"]"
      ],
      "metadata": {
        "colab": {
          "base_uri": "https://localhost:8080/",
          "height": 192
        },
        "id": "Nt3rVqxlS2-t",
        "outputId": "ff9ee9f0-1a9f-4634-eef6-d24d599e7854"
      },
      "execution_count": null,
      "outputs": [
        {
          "output_type": "execute_result",
          "data": {
            "text/plain": [
              "'The following best practices are suggested to achieve a successful implementation:\\n\\nPlanning\\nDefine your business goals and strategies and plan your implementation activities around them.\\nAnalyzing\\nConfirm your requirements, analyze them, and understand their scope in the CRM environment.\\nDesigning\\nReview your business process and compare it with the CRM system to align it with your business. Analyze the integrations that are needed and prep your data for the migration.\\nValidating\\nAssess the implementation in a test environment by giving your sales team access to the CRM account.\\nDeploying\\nDeploy the CRM. Continue to train your team members with documentations, training materials and other relevant resources. Document their pain points and identify the areas of improvement.'"
            ],
            "application/vnd.google.colaboratory.intrinsic+json": {
              "type": "string"
            }
          },
          "metadata": {},
          "execution_count": 28
        }
      ]
    },
    {
      "cell_type": "code",
      "source": [
        "Markdown(result[\"result\"])"
      ],
      "metadata": {
        "colab": {
          "base_uri": "https://localhost:8080/",
          "height": 174
        },
        "id": "DmrG-2oYTUzf",
        "outputId": "db570688-3f2c-4ef0-ac0b-5c66d0d81841"
      },
      "execution_count": null,
      "outputs": [
        {
          "output_type": "execute_result",
          "data": {
            "text/plain": [
              "<IPython.core.display.Markdown object>"
            ],
            "text/markdown": "The following best practices are suggested to achieve a successful implementation:\n\nPlanning\nDefine your business goals and strategies and plan your implementation activities around them.\nAnalyzing\nConfirm your requirements, analyze them, and understand their scope in the CRM environment.\nDesigning\nReview your business process and compare it with the CRM system to align it with your business. Analyze the integrations that are needed and prep your data for the migration.\nValidating\nAssess the implementation in a test environment by giving your sales team access to the CRM account.\nDeploying\nDeploy the CRM. Continue to train your team members with documentations, training materials and other relevant resources. Document their pain points and identify the areas of improvement."
          },
          "metadata": {},
          "execution_count": 29
        }
      ]
    },
    {
      "cell_type": "code",
      "source": [
        "question = \"What is temperature in Lucknow?\"\n",
        "result = qa_chain({\"query\": question})\n",
        "result[\"result\"]"
      ],
      "metadata": {
        "colab": {
          "base_uri": "https://localhost:8080/",
          "height": 53
        },
        "id": "f4RE6QWFTasw",
        "outputId": "c51191ba-b241-489f-8366-0afbf38d3f49"
      },
      "execution_count": null,
      "outputs": [
        {
          "output_type": "execute_result",
          "data": {
            "text/plain": [
              "'This context does not mention anything about the temperature in Lucknow, so I cannot answer this question from the provided context.'"
            ],
            "application/vnd.google.colaboratory.intrinsic+json": {
              "type": "string"
            }
          },
          "metadata": {},
          "execution_count": 30
        }
      ]
    },
    {
      "cell_type": "code",
      "source": [
        "import json\n",
        "\n",
        "# Convert complex objects to JSON-compatible data structures\n",
        "# Example:\n",
        "json_serializable_data = {\n",
        "    'qa_chain': qa_chain.to_json(),  # Convert qa_chain to JSON\n",
        "    'vector_index': vector_index.to_json(),  # Convert vector_index to JSON\n",
        "    # Add any other components you need to serialize\n",
        "}\n",
        "\n",
        "# Save the dictionary as a JSON file\n",
        "filename = 'model_data.json'\n",
        "with open(filename, 'w') as file:\n",
        "    json.dump(json_serializable_data, file)\n"
      ],
      "metadata": {
        "id": "sO6s5TvLrMva"
      },
      "execution_count": null,
      "outputs": []
    },
    {
      "cell_type": "code",
      "source": [],
      "metadata": {
        "id": "cyvC46piuZ4h"
      },
      "execution_count": null,
      "outputs": []
    }
  ]
}